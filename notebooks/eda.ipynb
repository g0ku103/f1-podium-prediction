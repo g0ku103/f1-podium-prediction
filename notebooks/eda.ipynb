{
 "cells": [
  {
   "cell_type": "code",
   "execution_count": 1,
   "id": "c6baf599",
   "metadata": {},
   "outputs": [],
   "source": [
    "import pandas as pd\n",
    "import os"
   ]
  },
  {
   "cell_type": "code",
   "execution_count": 10,
   "id": "1e2c009d",
   "metadata": {},
   "outputs": [
    {
     "name": "stdout",
     "output_type": "stream",
     "text": [
      "Available CSV files: ['circuits.csv', 'constructors.csv', 'constructor_results.csv', 'constructor_standings.csv', 'drivers.csv', 'driver_standings.csv', 'lap_times.csv', 'pit_stops.csv', 'qualifying.csv', 'races.csv', 'results.csv', 'seasons.csv', 'sprint_results.csv', 'status.csv']\n"
     ]
    }
   ],
   "source": [
    "data_path='../data/f1-data/'\n",
    "\n",
    "csv_files = [f for f in os.listdir(data_path) if f.endswith('.csv')]\n",
    "print(\"Available CSV files:\", csv_files)"
   ]
  },
  {
   "cell_type": "code",
   "execution_count": null,
   "id": "aeed8385",
   "metadata": {},
   "outputs": [
    {
     "name": "stdout",
     "output_type": "stream",
     "text": [
      "=== Results ===\n",
      "<class 'pandas.core.frame.DataFrame'>\n",
      "RangeIndex: 26759 entries, 0 to 26758\n",
      "Data columns (total 18 columns):\n",
      " #   Column           Non-Null Count  Dtype  \n",
      "---  ------           --------------  -----  \n",
      " 0   resultId         26759 non-null  int64  \n",
      " 1   raceId           26759 non-null  int64  \n",
      " 2   driverId         26759 non-null  int64  \n",
      " 3   constructorId    26759 non-null  int64  \n",
      " 4   number           26759 non-null  object \n",
      " 5   grid             26759 non-null  int64  \n",
      " 6   position         26759 non-null  object \n",
      " 7   positionText     26759 non-null  object \n",
      " 8   positionOrder    26759 non-null  int64  \n",
      " 9   points           26759 non-null  float64\n",
      " 10  laps             26759 non-null  int64  \n",
      " 11  time             26759 non-null  object \n",
      " 12  milliseconds     26759 non-null  object \n",
      " 13  fastestLap       26759 non-null  object \n",
      " 14  rank             26759 non-null  object \n",
      " 15  fastestLapTime   26759 non-null  object \n",
      " 16  fastestLapSpeed  26759 non-null  object \n",
      " 17  statusId         26759 non-null  int64  \n",
      "dtypes: float64(1), int64(8), object(9)\n",
      "memory usage: 3.7+ MB\n",
      "None\n",
      "\n",
      "Sample data (first 5 rows):\n",
      "   resultId  raceId  driverId  constructorId number  grid position  \\\n",
      "0         1      18         1              1     22     1        1   \n",
      "1         2      18         2              2      3     5        2   \n",
      "2         3      18         3              3      7     7        3   \n",
      "3         4      18         4              4      5    11        4   \n",
      "4         5      18         5              1     23     3        5   \n",
      "\n",
      "  positionText  positionOrder  points  laps         time milliseconds  \\\n",
      "0            1              1    10.0    58  1:34:50.616      5690616   \n",
      "1            2              2     8.0    58       +5.478      5696094   \n",
      "2            3              3     6.0    58       +8.163      5698779   \n",
      "3            4              4     5.0    58      +17.181      5707797   \n",
      "4            5              5     4.0    58      +18.014      5708630   \n",
      "\n",
      "  fastestLap rank fastestLapTime fastestLapSpeed  statusId  \n",
      "0         39    2       1:27.452         218.300         1  \n",
      "1         41    3       1:27.739         217.586         1  \n",
      "2         41    5       1:28.090         216.719         1  \n",
      "3         58    7       1:28.603         215.464         1  \n",
      "4         43    1       1:27.418         218.385         1  \n"
     ]
    }
   ],
   "source": [
    "results = pd.read_csv(data_path + 'results.csv')\n",
    "races = pd.read_csv(data_path + 'races.csv')\n",
    "drivers = pd.read_csv(data_path + 'drivers.csv')\n",
    "constructors = pd.read_csv(data_path + 'constructors.csv')\n",
    "\n",
    "#display basic info for each file\n",
    "print('=== Results ===')\n",
    "print(results.info())\n",
    "print(\"\\nSample data (first 5 rows):\")\n",
    "print(results.head())\n",
    "\n"
   ]
  },
  {
   "cell_type": "code",
   "execution_count": 12,
   "id": "4da3aa9a",
   "metadata": {},
   "outputs": [
    {
     "name": "stdout",
     "output_type": "stream",
     "text": [
      "\n",
      "=== Races ===\n",
      "<class 'pandas.core.frame.DataFrame'>\n",
      "RangeIndex: 1125 entries, 0 to 1124\n",
      "Data columns (total 18 columns):\n",
      " #   Column       Non-Null Count  Dtype \n",
      "---  ------       --------------  ----- \n",
      " 0   raceId       1125 non-null   int64 \n",
      " 1   year         1125 non-null   int64 \n",
      " 2   round        1125 non-null   int64 \n",
      " 3   circuitId    1125 non-null   int64 \n",
      " 4   name         1125 non-null   object\n",
      " 5   date         1125 non-null   object\n",
      " 6   time         1125 non-null   object\n",
      " 7   url          1125 non-null   object\n",
      " 8   fp1_date     1125 non-null   object\n",
      " 9   fp1_time     1125 non-null   object\n",
      " 10  fp2_date     1125 non-null   object\n",
      " 11  fp2_time     1125 non-null   object\n",
      " 12  fp3_date     1125 non-null   object\n",
      " 13  fp3_time     1125 non-null   object\n",
      " 14  quali_date   1125 non-null   object\n",
      " 15  quali_time   1125 non-null   object\n",
      " 16  sprint_date  1125 non-null   object\n",
      " 17  sprint_time  1125 non-null   object\n",
      "dtypes: int64(4), object(14)\n",
      "memory usage: 158.3+ KB\n",
      "None\n",
      "\n",
      "Sample data (first 5 rows):\n",
      "   raceId  year  round  circuitId                   name        date  \\\n",
      "0       1  2009      1          1  Australian Grand Prix  2009-03-29   \n",
      "1       2  2009      2          2   Malaysian Grand Prix  2009-04-05   \n",
      "2       3  2009      3         17     Chinese Grand Prix  2009-04-19   \n",
      "3       4  2009      4          3     Bahrain Grand Prix  2009-04-26   \n",
      "4       5  2009      5          4     Spanish Grand Prix  2009-05-10   \n",
      "\n",
      "       time                                                url fp1_date  \\\n",
      "0  06:00:00  http://en.wikipedia.org/wiki/2009_Australian_G...       \\N   \n",
      "1  09:00:00  http://en.wikipedia.org/wiki/2009_Malaysian_Gr...       \\N   \n",
      "2  07:00:00  http://en.wikipedia.org/wiki/2009_Chinese_Gran...       \\N   \n",
      "3  12:00:00  http://en.wikipedia.org/wiki/2009_Bahrain_Gran...       \\N   \n",
      "4  12:00:00  http://en.wikipedia.org/wiki/2009_Spanish_Gran...       \\N   \n",
      "\n",
      "  fp1_time fp2_date fp2_time fp3_date fp3_time quali_date quali_time  \\\n",
      "0       \\N       \\N       \\N       \\N       \\N         \\N         \\N   \n",
      "1       \\N       \\N       \\N       \\N       \\N         \\N         \\N   \n",
      "2       \\N       \\N       \\N       \\N       \\N         \\N         \\N   \n",
      "3       \\N       \\N       \\N       \\N       \\N         \\N         \\N   \n",
      "4       \\N       \\N       \\N       \\N       \\N         \\N         \\N   \n",
      "\n",
      "  sprint_date sprint_time  \n",
      "0          \\N          \\N  \n",
      "1          \\N          \\N  \n",
      "2          \\N          \\N  \n",
      "3          \\N          \\N  \n",
      "4          \\N          \\N  \n"
     ]
    }
   ],
   "source": [
    "print(\"\\n=== Races ===\")\n",
    "print(races.info())\n",
    "print(\"\\nSample data (first 5 rows):\")\n",
    "print(races.head())"
   ]
  },
  {
   "cell_type": "code",
   "execution_count": 13,
   "id": "8d244b02",
   "metadata": {},
   "outputs": [
    {
     "name": "stdout",
     "output_type": "stream",
     "text": [
      "\n",
      "=== Drivers ===\n",
      "<class 'pandas.core.frame.DataFrame'>\n",
      "RangeIndex: 861 entries, 0 to 860\n",
      "Data columns (total 9 columns):\n",
      " #   Column       Non-Null Count  Dtype \n",
      "---  ------       --------------  ----- \n",
      " 0   driverId     861 non-null    int64 \n",
      " 1   driverRef    861 non-null    object\n",
      " 2   number       861 non-null    object\n",
      " 3   code         861 non-null    object\n",
      " 4   forename     861 non-null    object\n",
      " 5   surname      861 non-null    object\n",
      " 6   dob          861 non-null    object\n",
      " 7   nationality  861 non-null    object\n",
      " 8   url          861 non-null    object\n",
      "dtypes: int64(1), object(8)\n",
      "memory usage: 60.7+ KB\n",
      "None\n",
      "\n",
      "Sample data (first 5 rows):\n",
      "   driverId   driverRef number code  forename     surname         dob  \\\n",
      "0         1    hamilton     44  HAM     Lewis    Hamilton  1985-01-07   \n",
      "1         2    heidfeld     \\N  HEI      Nick    Heidfeld  1977-05-10   \n",
      "2         3     rosberg      6  ROS      Nico     Rosberg  1985-06-27   \n",
      "3         4      alonso     14  ALO  Fernando      Alonso  1981-07-29   \n",
      "4         5  kovalainen     \\N  KOV    Heikki  Kovalainen  1981-10-19   \n",
      "\n",
      "  nationality                                             url  \n",
      "0     British     http://en.wikipedia.org/wiki/Lewis_Hamilton  \n",
      "1      German      http://en.wikipedia.org/wiki/Nick_Heidfeld  \n",
      "2      German       http://en.wikipedia.org/wiki/Nico_Rosberg  \n",
      "3     Spanish    http://en.wikipedia.org/wiki/Fernando_Alonso  \n",
      "4     Finnish  http://en.wikipedia.org/wiki/Heikki_Kovalainen  \n"
     ]
    }
   ],
   "source": [
    "print(\"\\n=== Drivers ===\")\n",
    "print(drivers.info())\n",
    "print(\"\\nSample data (first 5 rows):\")\n",
    "print(drivers.head())"
   ]
  },
  {
   "cell_type": "code",
   "execution_count": 14,
   "id": "c50301bc",
   "metadata": {},
   "outputs": [
    {
     "name": "stdout",
     "output_type": "stream",
     "text": [
      "\n",
      "=== Constructors ===\n",
      "<class 'pandas.core.frame.DataFrame'>\n",
      "RangeIndex: 212 entries, 0 to 211\n",
      "Data columns (total 5 columns):\n",
      " #   Column          Non-Null Count  Dtype \n",
      "---  ------          --------------  ----- \n",
      " 0   constructorId   212 non-null    int64 \n",
      " 1   constructorRef  212 non-null    object\n",
      " 2   name            212 non-null    object\n",
      " 3   nationality     212 non-null    object\n",
      " 4   url             212 non-null    object\n",
      "dtypes: int64(1), object(4)\n",
      "memory usage: 8.4+ KB\n",
      "None\n",
      "\n",
      "Sample data (first 5 rows):\n",
      "   constructorId constructorRef        name nationality  \\\n",
      "0              1        mclaren     McLaren     British   \n",
      "1              2     bmw_sauber  BMW Sauber      German   \n",
      "2              3       williams    Williams     British   \n",
      "3              4        renault     Renault      French   \n",
      "4              5     toro_rosso  Toro Rosso     Italian   \n",
      "\n",
      "                                                 url  \n",
      "0               http://en.wikipedia.org/wiki/McLaren  \n",
      "1            http://en.wikipedia.org/wiki/BMW_Sauber  \n",
      "2  http://en.wikipedia.org/wiki/Williams_Grand_Pr...  \n",
      "3  http://en.wikipedia.org/wiki/Renault_in_Formul...  \n",
      "4   http://en.wikipedia.org/wiki/Scuderia_Toro_Rosso  \n"
     ]
    }
   ],
   "source": [
    "print(\"\\n=== Constructors ===\")\n",
    "print(constructors.info())\n",
    "print(\"\\nSample data (first 5 rows):\")\n",
    "print(constructors.head())"
   ]
  },
  {
   "cell_type": "code",
   "execution_count": 15,
   "id": "958d3d91",
   "metadata": {},
   "outputs": [],
   "source": [
    "dfs = {\n",
    "    'results' : results,\n",
    "    'races'   : races,\n",
    "    'drivers' :drivers,\n",
    "    'constructors' : constructors\n",
    "}\n",
    "\n"
   ]
  },
  {
   "cell_type": "code",
   "execution_count": 16,
   "id": "626c92d2",
   "metadata": {},
   "outputs": [
    {
     "name": "stdout",
     "output_type": "stream",
     "text": [
      "\n",
      "=== Placeholder Analysis for results ===\n",
      "Column 'resultId': 26759 unique values\n",
      "Column 'raceId': 1125 unique values\n",
      "Column 'driverId': 861 unique values\n",
      "Column 'constructorId': 211 unique values\n",
      "Column 'number' has 6 '\\N' values\n",
      "Column 'number': 130 unique values\n",
      "Column 'grid': 35 unique values\n",
      "Column 'position' has 10953 '\\N' values\n",
      "Column 'position': 34 unique values\n",
      "Column 'positionText': 39 unique values\n",
      "Column 'positionOrder': 39 unique values\n",
      "Column 'points': 39 unique values\n",
      "Column 'laps': 172 unique values\n",
      "Column 'time' has 19079 '\\N' values\n",
      "Column 'time': 7411 unique values\n",
      "Column 'milliseconds' has 19079 '\\N' values\n",
      "Column 'milliseconds': 7639 unique values\n",
      "Column 'fastestLap' has 18507 '\\N' values\n",
      "Column 'fastestLap': 81 unique values\n",
      "Column 'rank' has 18249 '\\N' values\n",
      "Column 'rank': 26 unique values\n",
      "Column 'fastestLapTime' has 18507 '\\N' values\n",
      "Column 'fastestLapTime': 7474 unique values\n",
      "Column 'fastestLapSpeed' has 18507 '\\N' values\n",
      "Column 'fastestLapSpeed': 7725 unique values\n",
      "Column 'statusId': 137 unique values\n",
      "\n",
      "=== Placeholder Analysis for races ===\n",
      "Column 'raceId': 1125 unique values\n",
      "Column 'year': 75 unique values\n",
      "Column 'round': 24 unique values\n",
      "Column 'circuitId': 77 unique values\n",
      "Column 'name': 54 unique values\n",
      "Column 'date': 1125 unique values\n",
      "Column 'time' has 731 '\\N' values\n",
      "Column 'time': 35 unique values\n",
      "Column 'url': 1125 unique values\n",
      "Column 'fp1_date' has 1035 '\\N' values\n",
      "Column 'fp1_date': 91 unique values\n",
      "Column 'fp1_time' has 1057 '\\N' values\n",
      "Column 'fp1_time': 21 unique values\n",
      "Column 'fp2_date' has 1035 '\\N' values\n",
      "Column 'fp2_date': 91 unique values\n",
      "Column 'fp2_time' has 1057 '\\N' values\n",
      "Column 'fp2_time': 20 unique values\n",
      "Column 'fp3_date' has 1053 '\\N' values\n",
      "Column 'fp3_date': 73 unique values\n",
      "Column 'fp3_time' has 1072 '\\N' values\n",
      "Column 'fp3_time': 19 unique values\n",
      "Column 'quali_date' has 1035 '\\N' values\n",
      "Column 'quali_date': 91 unique values\n",
      "Column 'quali_time' has 1057 '\\N' values\n",
      "Column 'quali_time': 16 unique values\n",
      "Column 'sprint_date' has 1107 '\\N' values\n",
      "Column 'sprint_date': 19 unique values\n",
      "Column 'sprint_time' has 1110 '\\N' values\n",
      "Column 'sprint_time': 13 unique values\n",
      "\n",
      "=== Placeholder Analysis for drivers ===\n",
      "Column 'driverId': 861 unique values\n",
      "Column 'driverRef': 861 unique values\n",
      "Column 'number' has 802 '\\N' values\n",
      "Column 'number': 49 unique values\n",
      "Column 'code' has 757 '\\N' values\n",
      "Column 'code': 98 unique values\n",
      "Column 'forename': 478 unique values\n",
      "Column 'surname': 802 unique values\n",
      "Column 'dob': 843 unique values\n",
      "Column 'nationality': 43 unique values\n",
      "Column 'url': 861 unique values\n",
      "\n",
      "=== Placeholder Analysis for constructors ===\n",
      "Column 'constructorId': 212 unique values\n",
      "Column 'constructorRef': 212 unique values\n",
      "Column 'name': 212 unique values\n",
      "Column 'nationality': 24 unique values\n",
      "Column 'url': 175 unique values\n"
     ]
    }
   ],
   "source": [
    "# Function to check for placeholders like \\N, et, or others\n",
    "def check_placeholders(df, df_name):\n",
    "    print(f\"\\n=== Placeholder Analysis for {df_name} ===\")\n",
    "    for col in df.columns:\n",
    "        # Check for \\N in object/string columns\n",
    "        if df[col].dtype == 'object':\n",
    "            n_count = df[col].str.contains(r'\\\\N', na=False).sum()\n",
    "            if n_count > 0:\n",
    "                print(f\"Column '{col}' has {n_count} '\\\\N' values\")\n",
    "        \n",
    "        # Check for other suspicious placeholders (e.g., 'et')\n",
    "        unique_vals = df[col].unique()\n",
    "        suspicious = [val for val in unique_vals if isinstance(val, str) and val.lower() in ['et', 'null', 'n/a', 'unknown']]\n",
    "        if suspicious:\n",
    "            print(f\"Column '{col}' has suspicious values: {suspicious}\")\n",
    "        \n",
    "        # Report total unique values for context\n",
    "        print(f\"Column '{col}': {len(unique_vals)} unique values\")\n",
    "\n",
    "# Analyze placeholders in each dataframe\n",
    "for name, df in dfs.items():\n",
    "    check_placeholders(df, name)"
   ]
  },
  {
   "cell_type": "code",
   "execution_count": 19,
   "id": "75c5f18f",
   "metadata": {},
   "outputs": [
    {
     "name": "stdout",
     "output_type": "stream",
     "text": [
      "\n",
      "=== Placeholders in Critical Columns ===\n",
      "\n",
      "Results:\n",
      "Column 'grid' has 1638 zeros, 0 negative values\n",
      "Column 'position' has 10953 '\\N' values\n",
      "\n",
      "Races:\n",
      "\n",
      "Drivers:\n",
      "Column 'code' has 757 '\\N' values\n",
      "\n",
      "Constructors:\n"
     ]
    }
   ],
   "source": [
    "# Critical columns for podium prediction\n",
    "critical_columns = {\n",
    "    'results': ['raceId', 'driverId', 'constructorId', 'grid', 'position', 'positionText'],\n",
    "    'races': ['raceId', 'year', 'name', 'circuitId'],\n",
    "    'drivers': ['driverId', 'code', 'forename', 'surname'],\n",
    "    'constructors': ['constructorId', 'name']\n",
    "}\n",
    "\n",
    "# Check placeholders in critical columns\n",
    "print(\"\\n=== Placeholders in Critical Columns ===\")\n",
    "for df_name, cols in critical_columns.items():\n",
    "    df = dfs[df_name]\n",
    "    print(f\"\\n{df_name.capitalize()}:\")\n",
    "\n",
    "    for col in cols:\n",
    "        if df[col].dtype == 'object':\n",
    "            n_count = df[col].str.contains(r'\\\\N', na=False).sum()\n",
    "            if n_count > 0:\n",
    "                print(f\"Column '{col}' has {n_count} '\\\\N' values\")\n",
    "            suspicious = [val for val in df[col].unique() if isinstance(val, str) and val.lower() in ['et', 'null', 'n/a', 'unknown']]\n",
    "            if suspicious:\n",
    "                print(f\"Column '{col}' has suspicious values: {suspicious}\")\n",
    "        else:\n",
    "            # For numeric columns, check for unexpected zeros or negatives\n",
    "            if df[col].dtype in ['int64', 'float64']:\n",
    "                zero_count = (df[col] == 0).sum()\n",
    "                negative_count = (df[col] < 0).sum()\n",
    "                if zero_count > 0 or negative_count > 0:\n",
    "                    print(f\"Column '{col}' has {zero_count} zeros, {negative_count} negative values\")"
   ]
  },
  {
   "cell_type": "code",
   "execution_count": 20,
   "id": "6b5e66a8",
   "metadata": {},
   "outputs": [
    {
     "name": "stdout",
     "output_type": "stream",
     "text": [
      "\n",
      "=== Placeholder Summary ===\n",
      "Key columns likely affected by placeholders:\n",
      "- results.position and results.positionText: Likely '\\N' for DNFs (Did Not Finish) or disqualifications.\n",
      "- results.grid: Possible '\\N' or 0 for missing qualifying data.\n",
      "- drivers.code: Possible missing or '\\N' for older drivers without codes.\n",
      "Next steps:\n",
      "- Replace '\\N' in position with a high number (e.g., 99) or drop DNFs.\n",
      "- Replace '\\N' or 0 in grid with median qualifying position or a flag.\n",
      "- Investigate 'et' or other placeholders; may be typos or specific codes.\n",
      "- Consider external weather data, as not present in dataset.\n"
     ]
    }
   ],
   "source": [
    "# Summarize placeholder findings\n",
    "print(\"\\n=== Placeholder Summary ===\")\n",
    "print(\"Key columns likely affected by placeholders:\")\n",
    "print(\"- results.position and results.positionText: Likely '\\\\N' for DNFs (Did Not Finish) or disqualifications.\")\n",
    "print(\"- results.grid: Possible '\\\\N' or 0 for missing qualifying data.\")\n",
    "print(\"- drivers.code: Possible missing or '\\\\N' for older drivers without codes.\")\n",
    "print(\"Next steps:\")\n",
    "print(\"- Replace '\\\\N' in position with a high number (e.g., 99) or drop DNFs.\")\n",
    "print(\"- Replace '\\\\N' or 0 in grid with median qualifying position or a flag.\")\n",
    "print(\"- Investigate 'et' or other placeholders; may be typos or specific codes.\")\n",
    "print(\"- Consider external weather data, as not present in dataset.\")"
   ]
  },
  {
   "cell_type": "markdown",
   "id": "de191e16",
   "metadata": {},
   "source": [
    "Visualize"
   ]
  },
  {
   "cell_type": "code",
   "execution_count": 24,
   "id": "f876938a",
   "metadata": {},
   "outputs": [
    {
     "name": "stdout",
     "output_type": "stream",
     "text": [
      "Merged data shape: (6436, 24)\n"
     ]
    }
   ],
   "source": [
    "import pandas as pd\n",
    "import matplotlib.pyplot as plt\n",
    "import os\n",
    "\n",
    "# Define path to dataset\n",
    "data_path = '../data/f1-data/'\n",
    "\n",
    "# Load key CSV files\n",
    "results = pd.read_csv(data_path + 'results.csv')\n",
    "races = pd.read_csv(data_path + 'races.csv')\n",
    "drivers = pd.read_csv(data_path + 'drivers.csv')\n",
    "constructors = pd.read_csv(data_path + 'constructors.csv')\n",
    "\n",
    "# Merge datasets for visualization\n",
    "df = results.merge(races[['raceId', 'year', 'name', 'circuitId']], on='raceId', how='left')\n",
    "df = df.merge(drivers[['driverId', 'code']], on='driverId', how='left')\n",
    "df = df.merge(constructors[['constructorId', 'name']], on='constructorId', how='left')\n",
    "\n",
    "# Rename columns for clarity\n",
    "df = df.rename(columns={\n",
    "    'year': 'season',\n",
    "    'name_x': 'race_name',\n",
    "    'name_y': 'constructor',\n",
    "    'code': 'driver',\n",
    "    'grid': 'qualifying_position',\n",
    "    'position': 'final_position'\n",
    "})\n",
    "\n",
    "# Filter for 2010–2024 (hybrid era)\n",
    "df = df[df['season'].between(2010, 2024)]\n",
    "\n",
    "# Create podium column (1 for top 3, 0 otherwise)\n",
    "# Handle \\N in position by checking positionText\n",
    "df['podium'] = df['positionText'].apply(lambda x: 1 if x in ['1', '2', '3'] else 0)\n",
    "\n",
    "# Save merged data for reference (optional)\n",
    "df.to_csv('../data/f1_race_results_temp.csv', index=False)\n",
    "print(\"Merged data shape:\", df.shape)"
   ]
  },
  {
   "cell_type": "code",
   "execution_count": 26,
   "id": "d1c79b7e",
   "metadata": {},
   "outputs": [
    {
     "data": {
      "image/png": "[encoded data removed]",
      "text/plain": [
       "<Figure size 1000x600 with 1 Axes>"
      ]
     },
     "metadata": {},
     "output_type": "display_data"
    }
   ],
   "source": [
    "# Driver-wise podium counts\n",
    "driver_podiums = df[df['podium'] == 1]['driver'].value_counts().head(10)  # Top 10 drivers\n",
    "\n",
    "plt.figure(figsize=(10, 6))\n",
    "plt.bar(driver_podiums.index, driver_podiums.values, color='blue')\n",
    "plt.title('Top 10 Drivers by Podium Finishes (2010–2024)')\n",
    "plt.xlabel('Driver')\n",
    "plt.ylabel('Number of Podiums')\n",
    "plt.xticks(rotation=45)\n",
    "plt.tight_layout()\n",
    "plt.savefig('../visualizations/driver_podiums.png')\n",
    "plt.show()"
   ]
  },
  {
   "cell_type": "code",
   "execution_count": 28,
   "id": "3cb1a2b8",
   "metadata": {},
   "outputs": [
    {
     "data": {
      "image/png": "[encoded data removed]",
      "text/plain": [
       "<Figure size 1000x600 with 1 Axes>"
      ]
     },
     "metadata": {},
     "output_type": "display_data"
    }
   ],
   "source": [
    "# Podium counts by circuit\n",
    "circuit_podiums = df[df['podium'] == 1]['race_name'].value_counts().head(10)  # Top 10 circuits\n",
    "\n",
    "plt.figure(figsize=(10, 6))\n",
    "plt.bar(circuit_podiums.index, circuit_podiums.values, color='red')\n",
    "plt.title('Top 10 Circuits by Podium Finishes (2010–2024)')\n",
    "plt.xlabel('Circuit')\n",
    "plt.ylabel('Number of Podiums')\n",
    "plt.xticks(rotation=45)\n",
    "plt.tight_layout()\n",
    "plt.savefig('../visualizations/circuit_podiums.png')\n",
    "plt.show()"
   ]
  },
  {
   "cell_type": "code",
   "execution_count": null,
   "id": "82497980",
   "metadata": {},
   "outputs": [],
   "source": []
  }
 ],
 "metadata": {
  "kernelspec": {
   "display_name": "venv",
   "language": "python",
   "name": "python3"
  },
  "language_info": {
   "codemirror_mode": {
    "name": "ipython",
    "version": 3
   },
   "file_extension": ".py",
   "mimetype": "text/x-python",
   "name": "python",
   "nbconvert_exporter": "python",
   "pygments_lexer": "ipython3",
   "version": "3.13.1"
  }
 },
 "nbformat": 4,
 "nbformat_minor": 5
}
